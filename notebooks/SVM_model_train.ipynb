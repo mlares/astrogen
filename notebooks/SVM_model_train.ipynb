{
 "cells": [
  {
   "cell_type": "code",
   "execution_count": 1,
   "id": "44350aee-af20-4cef-a74c-e36252049669",
   "metadata": {},
   "outputs": [],
   "source": [
    "import matplotlib.pyplot as plt\n",
    "\n",
    "from sklearn.svm import LinearSVC\n",
    "from sklearn.decomposition import PCA\n",
    "from sklearn.model_selection import train_test_split\n",
    "from sklearn import svm\n",
    "\n",
    "from sklearn.svm import SVC\n",
    "from sklearn.preprocessing import StandardScaler\n",
    "\n",
    "from sklearn import metrics\n",
    "from sklearn.metrics import confusion_matrix\n",
    "from sklearn.metrics import accuracy_score, precision_score, f1_score\n",
    "from sklearn.metrics import classification_report,plot_confusion_matrix,plot_roc_curve"
   ]
  },
  {
   "cell_type": "code",
   "execution_count": 2,
   "id": "27ff3ca5-9db0-47ce-beeb-65883fa6121b",
   "metadata": {},
   "outputs": [],
   "source": [
    "import numpy as np\n",
    "import pandas as pd\n",
    "from time import time\n",
    "import pickle"
   ]
  },
  {
   "cell_type": "code",
   "execution_count": 3,
   "id": "5c32adeb-e592-40ce-9267-3bb0d27b3a64",
   "metadata": {},
   "outputs": [],
   "source": [
    "np.random.seed(0)\n",
    "\n",
    "import warnings\n",
    "warnings.filterwarnings(\"ignore\")"
   ]
  },
  {
   "cell_type": "markdown",
   "id": "308ab5e8-a8f2-4ea8-aab2-dafa800ccc0c",
   "metadata": {},
   "source": [
    ". . .\n",
    "##### READ DATA"
   ]
  },
  {
   "cell_type": "code",
   "execution_count": 52,
   "id": "c31cb48b-0a18-43b7-9204-619eb6374e39",
   "metadata": {},
   "outputs": [],
   "source": [
    "D = pd.read_csv('papers_learn.csv', header=None)"
   ]
  },
  {
   "cell_type": "code",
   "execution_count": 53,
   "id": "aec830ca-52f2-4452-afa1-42f5037814f1",
   "metadata": {},
   "outputs": [
    {
     "data": {
      "text/html": [
       "<div>\n",
       "<style scoped>\n",
       "    .dataframe tbody tr th:only-of-type {\n",
       "        vertical-align: middle;\n",
       "    }\n",
       "\n",
       "    .dataframe tbody tr th {\n",
       "        vertical-align: top;\n",
       "    }\n",
       "\n",
       "    .dataframe thead th {\n",
       "        text-align: right;\n",
       "    }\n",
       "</style>\n",
       "<table border=\"1\" class=\"dataframe\">\n",
       "  <thead>\n",
       "    <tr style=\"text-align: right;\">\n",
       "      <th></th>\n",
       "      <th>0</th>\n",
       "      <th>1</th>\n",
       "      <th>2</th>\n",
       "      <th>3</th>\n",
       "      <th>4</th>\n",
       "      <th>5</th>\n",
       "      <th>6</th>\n",
       "      <th>7</th>\n",
       "      <th>8</th>\n",
       "      <th>9</th>\n",
       "      <th>10</th>\n",
       "      <th>11</th>\n",
       "      <th>12</th>\n",
       "      <th>13</th>\n",
       "    </tr>\n",
       "  </thead>\n",
       "  <tbody>\n",
       "    <tr>\n",
       "      <th>0</th>\n",
       "      <td>1.000</td>\n",
       "      <td>0.632</td>\n",
       "      <td>0.0</td>\n",
       "      <td>7.0</td>\n",
       "      <td>1.000</td>\n",
       "      <td>0.821</td>\n",
       "      <td>0.0</td>\n",
       "      <td>7.0</td>\n",
       "      <td>9.0</td>\n",
       "      <td>9.0</td>\n",
       "      <td>2.0</td>\n",
       "      <td>2.0</td>\n",
       "      <td>0.5</td>\n",
       "      <td>1</td>\n",
       "    </tr>\n",
       "    <tr>\n",
       "      <th>1</th>\n",
       "      <td>1.000</td>\n",
       "      <td>0.364</td>\n",
       "      <td>0.0</td>\n",
       "      <td>13.0</td>\n",
       "      <td>1.000</td>\n",
       "      <td>0.678</td>\n",
       "      <td>0.0</td>\n",
       "      <td>13.0</td>\n",
       "      <td>8.0</td>\n",
       "      <td>8.0</td>\n",
       "      <td>2.0</td>\n",
       "      <td>2.0</td>\n",
       "      <td>0.5</td>\n",
       "      <td>1</td>\n",
       "    </tr>\n",
       "    <tr>\n",
       "      <th>2</th>\n",
       "      <td>0.923</td>\n",
       "      <td>0.615</td>\n",
       "      <td>1.0</td>\n",
       "      <td>5.0</td>\n",
       "      <td>0.949</td>\n",
       "      <td>0.815</td>\n",
       "      <td>1.0</td>\n",
       "      <td>5.0</td>\n",
       "      <td>13.0</td>\n",
       "      <td>13.0</td>\n",
       "      <td>5.0</td>\n",
       "      <td>5.0</td>\n",
       "      <td>0.5</td>\n",
       "      <td>1</td>\n",
       "    </tr>\n",
       "    <tr>\n",
       "      <th>3</th>\n",
       "      <td>1.000</td>\n",
       "      <td>1.000</td>\n",
       "      <td>0.0</td>\n",
       "      <td>0.0</td>\n",
       "      <td>1.000</td>\n",
       "      <td>1.000</td>\n",
       "      <td>0.0</td>\n",
       "      <td>0.0</td>\n",
       "      <td>7.0</td>\n",
       "      <td>7.0</td>\n",
       "      <td>2.0</td>\n",
       "      <td>2.0</td>\n",
       "      <td>0.5</td>\n",
       "      <td>1</td>\n",
       "    </tr>\n",
       "    <tr>\n",
       "      <th>4</th>\n",
       "      <td>0.833</td>\n",
       "      <td>0.100</td>\n",
       "      <td>1.0</td>\n",
       "      <td>13.0</td>\n",
       "      <td>0.889</td>\n",
       "      <td>0.413</td>\n",
       "      <td>1.0</td>\n",
       "      <td>13.0</td>\n",
       "      <td>6.0</td>\n",
       "      <td>6.0</td>\n",
       "      <td>2.0</td>\n",
       "      <td>2.0</td>\n",
       "      <td>0.5</td>\n",
       "      <td>0</td>\n",
       "    </tr>\n",
       "  </tbody>\n",
       "</table>\n",
       "</div>"
      ],
      "text/plain": [
       "      0      1    2     3      4      5    6     7     8     9    10   11  \\\n",
       "0  1.000  0.632  0.0   7.0  1.000  0.821  0.0   7.0   9.0   9.0  2.0  2.0   \n",
       "1  1.000  0.364  0.0  13.0  1.000  0.678  0.0  13.0   8.0   8.0  2.0  2.0   \n",
       "2  0.923  0.615  1.0   5.0  0.949  0.815  1.0   5.0  13.0  13.0  5.0  5.0   \n",
       "3  1.000  1.000  0.0   0.0  1.000  1.000  0.0   0.0   7.0   7.0  2.0  2.0   \n",
       "4  0.833  0.100  1.0  13.0  0.889  0.413  1.0  13.0   6.0   6.0  2.0  2.0   \n",
       "\n",
       "    12  13  \n",
       "0  0.5   1  \n",
       "1  0.5   1  \n",
       "2  0.5   1  \n",
       "3  0.5   1  \n",
       "4  0.5   0  "
      ]
     },
     "execution_count": 53,
     "metadata": {},
     "output_type": "execute_result"
    }
   ],
   "source": [
    "D.head()"
   ]
  },
  {
   "cell_type": "code",
   "execution_count": 54,
   "id": "50fe726a-3e3b-42e6-b21b-90809c91f7a8",
   "metadata": {},
   "outputs": [],
   "source": [
    "y = D[13]"
   ]
  },
  {
   "cell_type": "markdown",
   "id": "fd65192d-5a29-41f7-9f9f-1cf23750e571",
   "metadata": {},
   "source": [
    ". . .\n",
    "##### CLEAN DATA"
   ]
  },
  {
   "cell_type": "code",
   "execution_count": 55,
   "id": "b15fe5b6-b46c-4253-b12f-0b151dc30648",
   "metadata": {},
   "outputs": [],
   "source": [
    "X = D.drop(columns=[6,7,8,9,10,11,12,13])"
   ]
  },
  {
   "cell_type": "code",
   "execution_count": 56,
   "id": "6c4529c2-fe56-4a05-80ad-a79dadeb8273",
   "metadata": {},
   "outputs": [
    {
     "data": {
      "text/plain": [
       "(369, 6)"
      ]
     },
     "execution_count": 56,
     "metadata": {},
     "output_type": "execute_result"
    }
   ],
   "source": [
    "X.shape"
   ]
  },
  {
   "cell_type": "code",
   "execution_count": 57,
   "id": "4c1d9511-eeb8-41fb-b521-07cdeecb097f",
   "metadata": {},
   "outputs": [
    {
     "data": {
      "text/html": [
       "<div>\n",
       "<style scoped>\n",
       "    .dataframe tbody tr th:only-of-type {\n",
       "        vertical-align: middle;\n",
       "    }\n",
       "\n",
       "    .dataframe tbody tr th {\n",
       "        vertical-align: top;\n",
       "    }\n",
       "\n",
       "    .dataframe thead th {\n",
       "        text-align: right;\n",
       "    }\n",
       "</style>\n",
       "<table border=\"1\" class=\"dataframe\">\n",
       "  <thead>\n",
       "    <tr style=\"text-align: right;\">\n",
       "      <th></th>\n",
       "      <th>0</th>\n",
       "      <th>1</th>\n",
       "      <th>2</th>\n",
       "      <th>3</th>\n",
       "      <th>4</th>\n",
       "      <th>5</th>\n",
       "    </tr>\n",
       "  </thead>\n",
       "  <tbody>\n",
       "    <tr>\n",
       "      <th>0</th>\n",
       "      <td>1.000</td>\n",
       "      <td>0.632</td>\n",
       "      <td>0.0</td>\n",
       "      <td>7.0</td>\n",
       "      <td>1.000</td>\n",
       "      <td>0.821</td>\n",
       "    </tr>\n",
       "    <tr>\n",
       "      <th>1</th>\n",
       "      <td>1.000</td>\n",
       "      <td>0.364</td>\n",
       "      <td>0.0</td>\n",
       "      <td>13.0</td>\n",
       "      <td>1.000</td>\n",
       "      <td>0.678</td>\n",
       "    </tr>\n",
       "    <tr>\n",
       "      <th>2</th>\n",
       "      <td>0.923</td>\n",
       "      <td>0.615</td>\n",
       "      <td>1.0</td>\n",
       "      <td>5.0</td>\n",
       "      <td>0.949</td>\n",
       "      <td>0.815</td>\n",
       "    </tr>\n",
       "    <tr>\n",
       "      <th>3</th>\n",
       "      <td>1.000</td>\n",
       "      <td>1.000</td>\n",
       "      <td>0.0</td>\n",
       "      <td>0.0</td>\n",
       "      <td>1.000</td>\n",
       "      <td>1.000</td>\n",
       "    </tr>\n",
       "    <tr>\n",
       "      <th>4</th>\n",
       "      <td>0.833</td>\n",
       "      <td>0.100</td>\n",
       "      <td>1.0</td>\n",
       "      <td>13.0</td>\n",
       "      <td>0.889</td>\n",
       "      <td>0.413</td>\n",
       "    </tr>\n",
       "  </tbody>\n",
       "</table>\n",
       "</div>"
      ],
      "text/plain": [
       "       0      1    2     3      4      5\n",
       "0  1.000  0.632  0.0   7.0  1.000  0.821\n",
       "1  1.000  0.364  0.0  13.0  1.000  0.678\n",
       "2  0.923  0.615  1.0   5.0  0.949  0.815\n",
       "3  1.000  1.000  0.0   0.0  1.000  1.000\n",
       "4  0.833  0.100  1.0  13.0  0.889  0.413"
      ]
     },
     "execution_count": 57,
     "metadata": {},
     "output_type": "execute_result"
    }
   ],
   "source": [
    "X.head()"
   ]
  },
  {
   "cell_type": "code",
   "execution_count": 58,
   "id": "b120b4e5-e433-42d5-9333-716ed713bdf6",
   "metadata": {},
   "outputs": [],
   "source": [
    "# Scale\n",
    "scaler = StandardScaler()\n",
    "scaler.fit(X)\n",
    "X = scaler.transform(X)"
   ]
  },
  {
   "cell_type": "code",
   "execution_count": 59,
   "id": "197302a3-397c-4bbb-8e89-b964a0258fc2",
   "metadata": {},
   "outputs": [],
   "source": [
    "X_train, X_test, y_train, y_test = train_test_split(X, y, test_size=0.3) #, random_state=20)"
   ]
  },
  {
   "cell_type": "code",
   "execution_count": 60,
   "id": "703ff0bf-1939-4c75-9a72-e7972c759868",
   "metadata": {},
   "outputs": [
    {
     "name": "stdout",
     "output_type": "stream",
     "text": [
      "[1 1 0 1 1 1 1 1 1 1 1 1 1 1 1 1 1 1 0 1 1 0 1 1 1 1 1 1 1 1 1 1 1 1 0 1 0\n",
      " 0 1 1 1 0 0 1 1 1 1 1 1 0 1 1 1 1 1 1 1 1 0 1 1 1 1 1 1 1 1 1 0 0 1 1 1 1\n",
      " 1 0 1 1 1 1 1 1 1 1 0 0 1 1 1 1 1 1 1 0 1 1 1 0 1 1 1 1 1 1 0 1 1 1 1 1 1\n",
      " 1 1 1 1 1 0 0 0 1 1 1 0 1 1 1 1 0 1 1 1 1 1 1 1 1 1 1 1 0 1 1 0 0 1 1 0 1\n",
      " 1 1 1 0 1 1 1 1 1 0 1 1 1 1 1 1 1 1 1 1 1 1 1 1 1 1 1 1 1 1 1 1 1 1 1 0 1\n",
      " 1 0 0 0 1 1 1 1 1 1 1 1 1 1 0 0 1 0 1 1 0 0 1 1 1 1 1 1 1 1 1 1 1 1 0 0 0\n",
      " 1 1 1 1 1 0 1 1 1 1 1 1 1 0 1 0 1 1 0 1 1 0 1 0 0 1 1 1 1 0 0 1 1 0 1 0]\n"
     ]
    }
   ],
   "source": [
    "print(y_train.values)"
   ]
  },
  {
   "cell_type": "code",
   "execution_count": 61,
   "id": "44c680ed-aff1-4ba9-846c-c794cff92e03",
   "metadata": {},
   "outputs": [
    {
     "name": "stdout",
     "output_type": "stream",
     "text": [
      "[1 0 0 1 1 1 0 1 1 1 1 1 0 1 0 1 1 1 1 1 1 0 1 1 1 0 1 0 1 1 1 1 1 0 0 1 1\n",
      " 1 0 0 1 1 0 0 0 1 1 1 1 0 1 1 0 0 1 0 1 1 0 0 1 1 1 1 1 0 0 1 0 0 1 1 1 1\n",
      " 1 1 1 0 1 1 1 1 1 1 1 0 1 0 1 0 1 1 0 1 1 1 0 1 1 0 0 1 0 1 0 1 1 1 1 1 0]\n"
     ]
    }
   ],
   "source": [
    "print(y_test.values)"
   ]
  },
  {
   "cell_type": "code",
   "execution_count": 62,
   "id": "1d367c80-edb0-4c23-ad14-b2f5320ba893",
   "metadata": {},
   "outputs": [],
   "source": [
    "#Create a svm Classifier\n",
    "clf = svm.SVC(kernel='linear', probability=True)\n",
    "\n",
    "#Train the model using the training sets\n",
    "clf.fit(X_train, y_train)\n",
    "\n",
    "#Predict the response for test dataset\n",
    "y_pred = clf.predict_proba(X_test)"
   ]
  },
  {
   "cell_type": "code",
   "execution_count": 63,
   "id": "3cfea913-5ef3-43b6-a23d-78ae9a412d72",
   "metadata": {},
   "outputs": [
    {
     "data": {
      "text/plain": [
       "array([9.97292551e-01, 2.78630059e-05, 2.66863763e-01, 9.97292551e-01,\n",
       "       9.97292551e-01, 9.52179069e-01, 2.86857677e-01, 9.97292551e-01,\n",
       "       9.97292551e-01, 9.59745950e-01, 9.12535814e-01, 9.97292551e-01,\n",
       "       4.72817068e-01, 8.59454508e-01, 1.40113206e-01, 9.67213813e-01,\n",
       "       9.32835845e-01, 9.32842570e-01, 8.59454508e-01, 9.95966359e-01,\n",
       "       9.97292551e-01, 2.86511444e-01, 9.32842570e-01, 9.97292551e-01,\n",
       "       9.97292551e-01, 3.89146755e-01, 9.97292551e-01, 3.74444206e-01,\n",
       "       9.97292551e-01, 9.32842570e-01, 9.16949073e-01, 2.33079110e-01,\n",
       "       9.95795513e-01, 1.08167539e-01, 1.26855723e-01, 9.51429580e-01,\n",
       "       6.52223556e-01, 9.32842570e-01, 4.72788722e-01, 2.78600120e-05,\n",
       "       9.97292551e-01, 9.97292551e-01, 8.96033374e-01, 2.33091675e-01,\n",
       "       2.02406034e-01, 9.78340685e-01, 9.32842570e-01, 8.59454508e-01,\n",
       "       9.97292551e-01, 1.54529986e-01, 9.97292551e-01, 9.97292551e-01,\n",
       "       8.87643788e-02, 1.22274148e-01, 9.97292551e-01, 8.22217198e-01,\n",
       "       9.97292551e-01, 9.93568200e-01, 5.38277743e-01, 8.55433123e-01,\n",
       "       9.32842570e-01, 9.97292551e-01, 9.97292551e-01, 9.32842570e-01,\n",
       "       9.06407298e-01, 1.63322958e-01, 3.85662114e-01, 9.97292551e-01,\n",
       "       1.70123794e-01, 1.13019721e-01, 9.97292551e-01, 9.97292551e-01,\n",
       "       9.97292551e-01, 9.32842570e-01, 9.97292551e-01, 9.32842570e-01,\n",
       "       9.32842570e-01, 2.96693681e-01, 9.27513914e-01, 9.97292551e-01,\n",
       "       9.32842570e-01, 7.75762064e-01, 8.14866281e-01, 9.97292551e-01,\n",
       "       9.97292551e-01, 4.01413911e-02, 9.34395097e-01, 8.12386704e-01,\n",
       "       9.50115809e-01, 3.74815920e-01, 9.32842570e-01, 9.44144126e-01,\n",
       "       1.89459660e-01, 9.97292551e-01, 9.59744568e-01, 9.97292551e-01,\n",
       "       1.16801130e-05, 9.97292551e-01, 9.97292551e-01, 1.17367262e-01,\n",
       "       6.01520831e-02, 9.32842570e-01, 1.16846934e-05, 9.97292551e-01,\n",
       "       4.80975168e-01, 9.32842570e-01, 9.32842570e-01, 8.59454508e-01,\n",
       "       9.62862285e-01, 9.97292551e-01, 1.83735753e-02])"
      ]
     },
     "execution_count": 63,
     "metadata": {},
     "output_type": "execute_result"
    }
   ],
   "source": [
    "y_pred[:,1]"
   ]
  },
  {
   "cell_type": "code",
   "execution_count": 64,
   "id": "ee7f053b-c3b1-4f30-9451-9bd639bc97f1",
   "metadata": {},
   "outputs": [],
   "source": [
    "d = y_test - y_pred[:,1]"
   ]
  },
  {
   "cell_type": "code",
   "execution_count": 65,
   "id": "16e6e945-05a2-43fe-9678-562d66371436",
   "metadata": {},
   "outputs": [
    {
     "data": {
      "text/plain": [
       "(array([ 4.,  0.,  4.,  9., 12., 74.,  6.,  1.,  0.,  1.]),\n",
       " array([-0.89603337, -0.72973795, -0.56344252, -0.39714709, -0.23085167,\n",
       "        -0.06455624,  0.10173918,  0.26803461,  0.43433004,  0.60062546,\n",
       "         0.76692089]),\n",
       " <BarContainer object of 10 artists>)"
      ]
     },
     "execution_count": 65,
     "metadata": {},
     "output_type": "execute_result"
    },
    {
     "data": {
      "image/png": "[encoded data removed]",
      "text/plain": [
       "<Figure size 432x288 with 1 Axes>"
      ]
     },
     "metadata": {
      "needs_background": "light"
     },
     "output_type": "display_data"
    }
   ],
   "source": [
    "plt.hist(d)"
   ]
  },
  {
   "cell_type": "code",
   "execution_count": 66,
   "id": "4df63487-610a-4437-a273-b7070bc4b6d5",
   "metadata": {},
   "outputs": [
    {
     "data": {
      "text/plain": [
       "(array([ 8., 10.,  7.,  4.,  3.,  1.,  1.,  1.,  9., 67.]),\n",
       " array([1.16801130e-05, 9.97397672e-02, 1.99467854e-01, 2.99195941e-01,\n",
       "        3.98924028e-01, 4.98652115e-01, 5.98380202e-01, 6.98108290e-01,\n",
       "        7.97836377e-01, 8.97564464e-01, 9.97292551e-01]),\n",
       " <BarContainer object of 10 artists>)"
      ]
     },
     "execution_count": 66,
     "metadata": {},
     "output_type": "execute_result"
    },
    {
     "data": {
      "image/png": "[encoded data removed]",
      "text/plain": [
       "<Figure size 432x288 with 1 Axes>"
      ]
     },
     "metadata": {
      "needs_background": "light"
     },
     "output_type": "display_data"
    }
   ],
   "source": [
    "plt.hist(y_pred[:,1])"
   ]
  },
  {
   "cell_type": "code",
   "execution_count": 67,
   "id": "85bc5832-0cf6-46f1-ba78-025615058864",
   "metadata": {},
   "outputs": [],
   "source": [
    "y_predL = y_pred[:,0]*[0]\n",
    "y_predL[y_pred[:,1]>0.5] = 1"
   ]
  },
  {
   "cell_type": "code",
   "execution_count": 68,
   "id": "dd69ce1a-fb1c-4be3-a340-3a34c04da86a",
   "metadata": {},
   "outputs": [],
   "source": [
    "y_predL = y_predL.astype(int)"
   ]
  },
  {
   "cell_type": "code",
   "execution_count": 69,
   "id": "daf7fb89-261f-47ff-b020-4e64e3ef261a",
   "metadata": {},
   "outputs": [
    {
     "data": {
      "text/plain": [
       "array([1, 0, 0, 1, 1, 1, 0, 1, 1, 1, 1, 1, 0, 1, 0, 1, 1, 1, 1, 1, 1, 0,\n",
       "       1, 1, 1, 0, 1, 0, 1, 1, 1, 0, 1, 0, 0, 1, 1, 1, 0, 0, 1, 1, 1, 0,\n",
       "       0, 1, 1, 1, 1, 0, 1, 1, 0, 0, 1, 1, 1, 1, 1, 1, 1, 1, 1, 1, 1, 0,\n",
       "       0, 1, 0, 0, 1, 1, 1, 1, 1, 1, 1, 0, 1, 1, 1, 1, 1, 1, 1, 0, 1, 1,\n",
       "       1, 0, 1, 1, 0, 1, 1, 1, 0, 1, 1, 0, 0, 1, 0, 1, 0, 1, 1, 1, 1, 1,\n",
       "       0])"
      ]
     },
     "execution_count": 69,
     "metadata": {},
     "output_type": "execute_result"
    }
   ],
   "source": [
    "y_predL"
   ]
  },
  {
   "cell_type": "code",
   "execution_count": 70,
   "id": "25f21ff0-3e69-4340-9f33-cfc9bc819d2e",
   "metadata": {},
   "outputs": [
    {
     "data": {
      "text/plain": [
       "array([1, 0, 0, 1, 1, 1, 0, 1, 1, 1, 1, 1, 0, 1, 0, 1, 1, 1, 1, 1, 1, 0,\n",
       "       1, 1, 1, 0, 1, 0, 1, 1, 1, 1, 1, 0, 0, 1, 1, 1, 0, 0, 1, 1, 0, 0,\n",
       "       0, 1, 1, 1, 1, 0, 1, 1, 0, 0, 1, 0, 1, 1, 0, 0, 1, 1, 1, 1, 1, 0,\n",
       "       0, 1, 0, 0, 1, 1, 1, 1, 1, 1, 1, 0, 1, 1, 1, 1, 1, 1, 1, 0, 1, 0,\n",
       "       1, 0, 1, 1, 0, 1, 1, 1, 0, 1, 1, 0, 0, 1, 0, 1, 0, 1, 1, 1, 1, 1,\n",
       "       0])"
      ]
     },
     "execution_count": 70,
     "metadata": {},
     "output_type": "execute_result"
    }
   ],
   "source": [
    "y_test.values"
   ]
  },
  {
   "cell_type": "code",
   "execution_count": 71,
   "id": "360026dd-e0cd-46b3-8b3f-35309eec1f6e",
   "metadata": {},
   "outputs": [
    {
     "name": "stdout",
     "output_type": "stream",
     "text": [
      "Accuracy: 0.9459459459459459\n"
     ]
    }
   ],
   "source": [
    "print(\"Accuracy:\",metrics.accuracy_score(y_test, y_predL))"
   ]
  },
  {
   "cell_type": "code",
   "execution_count": 72,
   "id": "e93b327f-d694-47a8-b875-4bd5b13c3127",
   "metadata": {},
   "outputs": [
    {
     "name": "stdout",
     "output_type": "stream",
     "text": [
      "F1-score: 0.961038961038961\n"
     ]
    }
   ],
   "source": [
    "print(\"F1-score:\",metrics.f1_score(y_test, y_predL))"
   ]
  },
  {
   "cell_type": "code",
   "execution_count": 73,
   "id": "8aa1f896-57bb-4f45-b277-88322d6183d7",
   "metadata": {},
   "outputs": [
    {
     "name": "stdout",
     "output_type": "stream",
     "text": [
      "AUC: 0.923888888888889\n"
     ]
    }
   ],
   "source": [
    "print(\"AUC:\",metrics.roc_auc_score(y_test, y_predL))"
   ]
  },
  {
   "cell_type": "code",
   "execution_count": 74,
   "id": "a58bd6db-b886-4a6f-9f75-85428434c391",
   "metadata": {},
   "outputs": [
    {
     "name": "stdout",
     "output_type": "stream",
     "text": [
      "Precision: 0.9367088607594937\n",
      "Recall: 0.9866666666666667\n"
     ]
    }
   ],
   "source": [
    "# Model Precision: what percentage of positive tuples are labeled as such?\n",
    "print(\"Precision:\",metrics.precision_score(y_test, y_predL)) \n",
    "\n",
    "# Model Recall: what percentage of positive tuples are labelled as such? \n",
    "print(\"Recall:\",metrics.recall_score(y_test, y_predL))"
   ]
  },
  {
   "cell_type": "code",
   "execution_count": 75,
   "id": "6df8f4a0-45f3-400a-a433-e6c2aa53edf6",
   "metadata": {},
   "outputs": [],
   "source": [
    "scores = np.arange(0, 1, 0.1)"
   ]
  },
  {
   "cell_type": "code",
   "execution_count": 76,
   "id": "1004b365-089f-4747-a353-a35765fb79f6",
   "metadata": {},
   "outputs": [
    {
     "data": {
      "text/plain": [
       "array([9.97292551e-01, 2.78630059e-05, 2.66863763e-01, 9.97292551e-01,\n",
       "       9.97292551e-01, 9.52179069e-01, 2.86857677e-01, 9.97292551e-01,\n",
       "       9.97292551e-01, 9.59745950e-01, 9.12535814e-01, 9.97292551e-01,\n",
       "       4.72817068e-01, 8.59454508e-01, 1.40113206e-01, 9.67213813e-01,\n",
       "       9.32835845e-01, 9.32842570e-01, 8.59454508e-01, 9.95966359e-01])"
      ]
     },
     "execution_count": 76,
     "metadata": {},
     "output_type": "execute_result"
    }
   ],
   "source": [
    "y_pred[:20,1]"
   ]
  },
  {
   "cell_type": "code",
   "execution_count": 77,
   "id": "d997fe88-f0ba-41f4-a54f-6f707a27467b",
   "metadata": {},
   "outputs": [
    {
     "name": "stdout",
     "output_type": "stream",
     "text": [
      "[1 0 0 1 1 1 0 1 1 1 1 1 0 1 0 1 1 1 1 1]\n"
     ]
    }
   ],
   "source": [
    "print(y_test[:20].values)"
   ]
  },
  {
   "cell_type": "code",
   "execution_count": 78,
   "id": "c6b3df0a-c437-4ed2-b89a-9c42fa983918",
   "metadata": {},
   "outputs": [],
   "source": [
    "fpr, tpr, thresholds = metrics.roc_curve(y_test, y_pred[:,1])"
   ]
  },
  {
   "cell_type": "code",
   "execution_count": 79,
   "id": "b8490537-47ac-40c9-aa09-090f56391ba2",
   "metadata": {},
   "outputs": [
    {
     "data": {
      "text/plain": [
       "array([1.99729255e+00, 9.97292551e-01, 9.34395097e-01, 9.32842570e-01,\n",
       "       9.06407298e-01, 8.96033374e-01, 8.59454508e-01, 8.22217198e-01,\n",
       "       8.14866281e-01, 8.12386704e-01, 6.52223556e-01, 2.33091675e-01,\n",
       "       2.33079110e-01, 1.16801130e-05])"
      ]
     },
     "execution_count": 79,
     "metadata": {},
     "output_type": "execute_result"
    }
   ],
   "source": [
    "thresholds"
   ]
  },
  {
   "cell_type": "code",
   "execution_count": 80,
   "id": "f944b57b-01f6-4364-8d4e-889abcaf2c21",
   "metadata": {},
   "outputs": [
    {
     "data": {
      "text/plain": [
       "array([0.        , 0.        , 0.        , 0.        , 0.        ,\n",
       "       0.02777778, 0.02777778, 0.08333333, 0.08333333, 0.11111111,\n",
       "       0.11111111, 0.47222222, 0.47222222, 1.        ])"
      ]
     },
     "execution_count": 80,
     "metadata": {},
     "output_type": "execute_result"
    }
   ],
   "source": [
    "fpr"
   ]
  },
  {
   "cell_type": "code",
   "execution_count": 81,
   "id": "f15602bf-2aed-470a-a506-2496e556c22f",
   "metadata": {},
   "outputs": [
    {
     "data": {
      "text/plain": [
       "array([0.        , 0.45333333, 0.62666667, 0.82666667, 0.89333333,\n",
       "       0.89333333, 0.94666667, 0.94666667, 0.96      , 0.96      ,\n",
       "       0.98666667, 0.98666667, 1.        , 1.        ])"
      ]
     },
     "execution_count": 81,
     "metadata": {},
     "output_type": "execute_result"
    }
   ],
   "source": [
    "tpr"
   ]
  },
  {
   "cell_type": "code",
   "execution_count": 82,
   "id": "661374d8-bd02-4841-852e-111376f42c6d",
   "metadata": {},
   "outputs": [
    {
     "data": {
      "text/plain": [
       "Text(0, 0.5, 'TPR')"
      ]
     },
     "execution_count": 82,
     "metadata": {},
     "output_type": "execute_result"
    },
    {
     "data": {
      "image/png": "[encoded data removed]",
      "text/plain": [
       "<Figure size 432x288 with 1 Axes>"
      ]
     },
     "metadata": {
      "needs_background": "light"
     },
     "output_type": "display_data"
    }
   ],
   "source": [
    "plt.plot(fpr, tpr)\n",
    "plt.plot([0,1],[0,1], linestyle='--', color='grey')\n",
    "plt.xlabel('FPR')\n",
    "plt.ylabel('TPR')"
   ]
  },
  {
   "cell_type": "code",
   "execution_count": 83,
   "id": "3862b0d3-b504-4d13-a5d8-852a4e848595",
   "metadata": {},
   "outputs": [
    {
     "data": {
      "text/plain": [
       "array([[31,  5],\n",
       "       [ 1, 74]])"
      ]
     },
     "execution_count": 83,
     "metadata": {},
     "output_type": "execute_result"
    }
   ],
   "source": [
    "confusion_matrix(y_test, y_predL)"
   ]
  },
  {
   "cell_type": "code",
   "execution_count": null,
   "id": "38592f44-60a3-47a3-a904-35b2403cf2b7",
   "metadata": {},
   "outputs": [],
   "source": []
  },
  {
   "cell_type": "code",
   "execution_count": null,
   "id": "71002d3e-fc41-4498-adbb-d3b0d2479ef5",
   "metadata": {},
   "outputs": [],
   "source": []
  },
  {
   "cell_type": "code",
   "execution_count": null,
   "id": "407e3d8c-81ad-4afe-95e6-457cb13ab95b",
   "metadata": {},
   "outputs": [],
   "source": []
  },
  {
   "cell_type": "markdown",
   "id": "857b4f20-d9f2-41f1-bda7-03702f478465",
   "metadata": {},
   "source": [
    "##### SAVE THE MODEL"
   ]
  },
  {
   "cell_type": "markdown",
   "id": "5fe84118-7b5f-4531-be36-8014bf15e0c2",
   "metadata": {},
   "source": [
    "using pickle"
   ]
  },
  {
   "cell_type": "code",
   "execution_count": 84,
   "id": "6a9958f9-7fca-473e-a4c9-229237f4d40e",
   "metadata": {},
   "outputs": [],
   "source": [
    "with open('SVM_model.pk', 'wb') as f:\n",
    "    pickle.dump(clf, f)"
   ]
  },
  {
   "cell_type": "code",
   "execution_count": 90,
   "id": "efc08d8c-eb26-486e-95ad-d840508af442",
   "metadata": {},
   "outputs": [
    {
     "data": {
      "text/plain": [
       "array([1])"
      ]
     },
     "execution_count": 90,
     "metadata": {},
     "output_type": "execute_result"
    }
   ],
   "source": [
    "tst = np.array([[0., 0., 1., 1., 0., 0.]])\n",
    "clf2.predict(tst)"
   ]
  },
  {
   "cell_type": "code",
   "execution_count": 86,
   "id": "558d5a4f-459e-4c9a-9a86-9236ae870cfd",
   "metadata": {},
   "outputs": [],
   "source": [
    "with open('SVM_model.pk', 'rb') as f:\n",
    "    clf = pickle.load(f) "
   ]
  },
  {
   "cell_type": "code",
   "execution_count": 87,
   "id": "cb2a85e0-552e-4788-9285-b60ba5aabed8",
   "metadata": {},
   "outputs": [
    {
     "data": {
      "text/plain": [
       "array([1])"
      ]
     },
     "execution_count": 87,
     "metadata": {},
     "output_type": "execute_result"
    }
   ],
   "source": [
    "clf2.predict(tst)"
   ]
  },
  {
   "cell_type": "code",
   "execution_count": null,
   "id": "67321a25-bd02-4559-a80f-0654c389ae3f",
   "metadata": {},
   "outputs": [],
   "source": []
  },
  {
   "cell_type": "markdown",
   "id": "217c4b21-bd00-4c14-b5b4-0f6e9ac2867b",
   "metadata": {},
   "source": [
    "using joblib (recommended)"
   ]
  },
  {
   "cell_type": "code",
   "execution_count": 38,
   "id": "e3f1a22e-e81f-4c94-9c15-2edbc9400e51",
   "metadata": {},
   "outputs": [],
   "source": [
    "from joblib import dump, load"
   ]
  },
  {
   "cell_type": "code",
   "execution_count": 127,
   "id": "fbfb1440-ebc5-4421-b1fa-4c4bf7c021fd",
   "metadata": {},
   "outputs": [
    {
     "data": {
      "text/plain": [
       "['SVM_model.joblib']"
      ]
     },
     "execution_count": 127,
     "metadata": {},
     "output_type": "execute_result"
    }
   ],
   "source": [
    "dump([clf, scaler], 'SVM_model.joblib')"
   ]
  },
  {
   "cell_type": "code",
   "execution_count": 128,
   "id": "7ba2d5a5-d1fb-4ef5-ac62-fbd65c5bf2fd",
   "metadata": {},
   "outputs": [],
   "source": [
    "clf2, scaler2 = load('SVM_model.joblib')"
   ]
  },
  {
   "cell_type": "code",
   "execution_count": 47,
   "id": "44f4e36b-437b-4629-b610-135c90fdcc30",
   "metadata": {},
   "outputs": [],
   "source": [
    "tst = np.array([[0., 0., 0., 0., 1., 1.]])"
   ]
  },
  {
   "cell_type": "code",
   "execution_count": 49,
   "id": "cd54b9f5-89db-4926-8d56-5b744092c204",
   "metadata": {},
   "outputs": [
    {
     "data": {
      "text/plain": [
       "array([1])"
      ]
     },
     "execution_count": 49,
     "metadata": {},
     "output_type": "execute_result"
    }
   ],
   "source": [
    "clf2.predict(tst)"
   ]
  },
  {
   "cell_type": "code",
   "execution_count": null,
   "id": "83af524e-5389-4299-a8c9-e067e9035439",
   "metadata": {},
   "outputs": [],
   "source": []
  },
  {
   "cell_type": "code",
   "execution_count": 908,
   "id": "5093e7a8-2933-4c1e-993b-6650c1bf1bd2",
   "metadata": {},
   "outputs": [
    {
     "data": {
      "text/plain": [
       "array([-1.12366143, -0.30227563, -1.23031535])"
      ]
     },
     "execution_count": 908,
     "metadata": {},
     "output_type": "execute_result"
    }
   ],
   "source": [
    "X_test[0,:]"
   ]
  },
  {
   "cell_type": "code",
   "execution_count": 44,
   "id": "326bf20c-a4c0-44aa-be0b-33ca97a414ef",
   "metadata": {},
   "outputs": [
    {
     "name": "stdout",
     "output_type": "stream",
     "text": [
      "[1] 1\n",
      "[1] 1\n",
      "[0] 0\n",
      "[1] 1\n",
      "[1] 1\n",
      "[0] 0\n",
      "[0] 0\n",
      "[0] 0\n",
      "[0] 1\n",
      "[1] 1\n",
      "[1] 1\n",
      "[1] 1\n"
     ]
    }
   ],
   "source": [
    "for x, y in zip(X_test[:12], y_test[:12]):\n",
    "    print(clf.predict(x.reshape(1,-1)), y)"
   ]
  },
  {
   "cell_type": "code",
   "execution_count": 103,
   "id": "1908ee3c-3751-4fd3-bbb9-517b07f3b2cc",
   "metadata": {},
   "outputs": [
    {
     "name": "stdout",
     "output_type": "stream",
     "text": [
      "[ 0.28552165 -1.02304127 -0.21489467  0.04910196  0.25683987 -0.95181634]\n"
     ]
    }
   ],
   "source": [
    "x = X_test[2]\n",
    "print(x)"
   ]
  },
  {
   "cell_type": "code",
   "execution_count": 106,
   "id": "f22e2b1a-8ac8-4a88-9f70-942590e0fa23",
   "metadata": {},
   "outputs": [
    {
     "name": "stdout",
     "output_type": "stream",
     "text": [
      "0\n"
     ]
    }
   ],
   "source": [
    "y = y_test.iloc[2]\n",
    "print(y)"
   ]
  },
  {
   "cell_type": "code",
   "execution_count": 108,
   "id": "48042690-c1db-4b37-99e8-5616102e7624",
   "metadata": {},
   "outputs": [
    {
     "data": {
      "text/plain": [
       "array([0])"
      ]
     },
     "execution_count": 108,
     "metadata": {},
     "output_type": "execute_result"
    }
   ],
   "source": [
    "clf.predict(x.reshape(1, -1))"
   ]
  },
  {
   "cell_type": "code",
   "execution_count": 110,
   "id": "25860fd5-637d-45b0-95dd-587df44ba69e",
   "metadata": {},
   "outputs": [],
   "source": [
    "x = np.array([[ 0.2, 0.5, 11., 1., 0.47222222, 0.66666667]])"
   ]
  },
  {
   "cell_type": "code",
   "execution_count": 111,
   "id": "87cdf42b-1842-4b3b-9fc5-bae29b2beac7",
   "metadata": {},
   "outputs": [
    {
     "data": {
      "text/plain": [
       "array([[ 0.2       ,  0.5       , 11.        ,  1.        ,  0.47222222,\n",
       "         0.66666667]])"
      ]
     },
     "execution_count": 111,
     "metadata": {},
     "output_type": "execute_result"
    }
   ],
   "source": [
    "x"
   ]
  },
  {
   "cell_type": "code",
   "execution_count": 112,
   "id": "b08ad032-0981-4016-a1e7-6d35df369c64",
   "metadata": {},
   "outputs": [
    {
     "data": {
      "text/plain": [
       "array([1])"
      ]
     },
     "execution_count": 112,
     "metadata": {},
     "output_type": "execute_result"
    }
   ],
   "source": [
    "clf.predict(x)"
   ]
  },
  {
   "cell_type": "code",
   "execution_count": 120,
   "id": "c46f0ce7-218f-4f5b-8822-4ad34f37f351",
   "metadata": {},
   "outputs": [],
   "source": [
    "x = np.array([[0.2222222222222222, 0.2, 10, 7, 0.5, 0.5416666666666666]])\n",
    "x = np.array([[1., 1., 10, 7, 0.5, 0.]])"
   ]
  },
  {
   "cell_type": "code",
   "execution_count": 121,
   "id": "7def70ee-b3b6-4d3f-92df-4af69cffed4a",
   "metadata": {},
   "outputs": [
    {
     "data": {
      "text/plain": [
       "array([[0.00572302, 0.99427698]])"
      ]
     },
     "execution_count": 121,
     "metadata": {},
     "output_type": "execute_result"
    }
   ],
   "source": [
    "clf.predict_proba(x)"
   ]
  },
  {
   "cell_type": "code",
   "execution_count": 126,
   "id": "7b6f59aa-15e8-4994-92ac-5a6e81182c2f",
   "metadata": {},
   "outputs": [
    {
     "name": "stdout",
     "output_type": "stream",
     "text": [
      "[ 0.28552165  1.09702741 -0.21489467 -0.93028316  0.25683987  0.8753134 ]\n",
      "1\n",
      "\n",
      "[ 0.28552165 -2.23641391 -0.21489467  0.29394825  0.25683987 -3.45437793]\n",
      "0\n",
      "\n",
      "[ 0.28552165 -1.02304127 -0.21489467  0.04910196  0.25683987 -0.95181634]\n",
      "0\n",
      "\n",
      "[ 0.28552165  1.09702741 -0.21489467 -0.93028316  0.25683987  0.8753134 ]\n",
      "1\n",
      "\n",
      "[ 0.28552165  1.09702741 -0.21489467 -0.93028316  0.25683987  0.8753134 ]\n",
      "1\n",
      "\n",
      "[ 0.28552165 -0.11634523 -0.21489467  1.02848709  0.25683987  0.10462834]\n",
      "1\n",
      "\n",
      "[-1.05804966 -1.02304127  0.63775194  1.76302594 -0.92676453 -0.80027715]\n",
      "0\n",
      "\n",
      "[ 0.28552165  1.09702741 -0.21489467 -0.93028316  0.25683987  0.8753134 ]\n",
      "1\n",
      "\n",
      "[ 0.28552165  1.09702741 -0.21489467 -0.93028316  0.25683987  0.8753134 ]\n",
      "1\n",
      "\n",
      "[ 0.28552165 -0.01300855 -0.21489467  0.78364081  0.25683987  0.15225495]\n",
      "1\n",
      "\n",
      "[-3.29375231  0.43033914  1.49039855 -0.68543688 -2.90894539  0.29946445]\n",
      "1\n",
      "\n",
      "[ 0.28552165  1.09702741 -0.21489467 -0.93028316  0.25683987  0.8753134 ]\n",
      "1\n",
      "\n",
      "[ 0.28552165 -0.90303738 -0.21489467  0.78364081  0.25683987 -0.71368332]\n",
      "0\n",
      "\n",
      "[ 0.28552165 -0.90303738 -0.21489467  0.53879453  0.25683987 -0.20710944]\n",
      "1\n",
      "\n",
      "[ 0.28552165 -0.71969811 -0.21489467  1.76302594  0.25683987 -1.16397122]\n",
      "0\n",
      "\n",
      "[ 0.28552165  0.09699501 -0.21489467  0.53879453  0.25683987  0.20854093]\n",
      "1\n",
      "\n",
      "[ 0.28552165 -0.33301892 -0.21489467  0.53879453  0.25683987  0.00937513]\n",
      "1\n",
      "\n",
      "[ 0.28552165 -0.33301892 -0.21489467 -0.19574432  0.25683987  0.00937513]\n",
      "1\n",
      "\n",
      "[ 0.28552165 -0.90303738 -0.21489467  0.53879453  0.25683987 -0.20710944]\n",
      "1\n",
      "\n",
      "[-0.90756967  1.09702741  0.63775194 -0.93028316 -0.79842188  0.8753134 ]\n",
      "1\n",
      "\n",
      "[ 0.28552165  1.09702741 -0.21489467 -0.93028316  0.25683987  0.8753134 ]\n",
      "1\n",
      "\n",
      "[ 0.28552165 -1.02304127 -0.21489467  1.27333337  0.25683987 -0.9258382 ]\n",
      "0\n",
      "\n",
      "[ 0.28552165 -0.33301892 -0.21489467 -0.19574432  0.25683987  0.00937513]\n",
      "1\n",
      "\n",
      "[ 0.28552165  1.09702741 -0.21489467 -0.93028316  0.25683987  0.8753134 ]\n",
      "1\n",
      "\n",
      "[ 0.28552165  1.09702741 -0.21489467 -0.93028316  0.25683987  0.8753134 ]\n",
      "1\n",
      "\n",
      "[-10.4630488    0.43033914   4.900985    -0.68543688 -14.00345412\n",
      "   0.29946445]\n",
      "0\n",
      "\n",
      "[ 0.28552165  1.09702741 -0.21489467 -0.93028316  0.25683987  0.8753134 ]\n",
      "1\n",
      "\n",
      "[ 0.28552165 -0.8563692  -0.21489467  1.51817966  0.25683987 -0.8219256 ]\n",
      "0\n",
      "\n",
      "[ 0.28552165  1.09702741 -0.21489467 -0.93028316  0.25683987  0.8753134 ]\n",
      "1\n",
      "\n",
      "[ 0.28552165 -0.33301892 -0.21489467 -0.19574432  0.25683987  0.00937513]\n",
      "1\n",
      "\n",
      "[ 0.28552165 -0.48302378 -0.21489467  1.27333337  0.25683987 -0.05124055]\n",
      "1\n",
      "\n",
      "[ 0.28552165 -0.33301892 -0.21489467 -0.19574432  0.25683987 -0.99944295]\n",
      "0\n",
      "\n",
      "[-1.3697582   1.09702741  1.49039855 -0.93028316 -1.21197041  0.8753134 ]\n",
      "1\n",
      "\n",
      "[ 0.28552165 -1.49638994 -0.21489467  2.98725735  0.25683987 -1.24190566]\n",
      "0\n",
      "\n",
      "[ 0.28552165 -1.4530552  -0.21489467  1.76302594  0.25683987 -1.19427906]\n",
      "0\n",
      "\n",
      "[ 0.28552165 -0.129679   -0.21489467  0.78364081  0.25683987  0.10029865]\n",
      "1\n",
      "\n",
      "[ 0.28552165 -1.02304127 -0.21489467  2.2527185   0.25683987 -0.51884721]\n",
      "1\n",
      "\n",
      "[ 0.28552165 -0.33301892 -0.21489467 -0.19574432  0.25683987  0.00937513]\n",
      "1\n",
      "\n",
      "[ 0.28552165 -0.84636888 -0.21489467  1.51817966  0.25683987 -0.71368332]\n",
      "0\n",
      "\n",
      "[ 0.28552165 -2.23641391 -0.21489467  1.02848709  0.25683987 -3.45437793]\n",
      "0\n",
      "\n",
      "[ 0.28552165  1.09702741 -0.21489467 -0.93028316  0.25683987  0.8753134 ]\n",
      "1\n",
      "\n",
      "[ 0.28552165  1.09702741 -0.21489467 -0.93028316  0.25683987  0.8753134 ]\n",
      "1\n",
      "\n",
      "[-4.85229502 -0.33301892  9.16421807 -0.19574432 -2.82338363  0.00937513]\n",
      "1\n",
      "\n",
      "[ 0.28552165 -1.28304969 -0.21489467  0.04910196  0.25683987 -0.99944295]\n",
      "0\n",
      "\n",
      "[ 0.28552165 -1.12637795 -0.21489467  0.04910196  0.25683987 -1.04706955]\n",
      "0\n",
      "\n",
      "[ 0.28552165  0.30366837 -0.21489467  0.29394825  0.25683987  0.32111291]\n",
      "1\n",
      "\n",
      "[ 0.28552165 -0.33301892 -0.21489467 -0.19574432  0.25683987  0.00937513]\n",
      "1\n",
      "\n",
      "[ 0.28552165 -0.90303738 -0.21489467  0.53879453  0.25683987 -0.20710944]\n",
      "1\n",
      "\n",
      "[ 0.28552165  1.09702741 -0.21489467 -0.93028316  0.25683987  0.8753134 ]\n",
      "1\n",
      "\n",
      "[ 0.28552165 -0.96637277 -0.21489467  1.51817966  0.25683987 -1.13366338]\n",
      "0\n",
      "\n",
      "[ 0.28552165  1.09702741 -0.21489467 -0.93028316  0.25683987  0.8753134 ]\n",
      "1\n",
      "\n",
      "[ 0.28552165  1.09702741 -0.21489467 -0.93028316  0.25683987  0.8753134 ]\n",
      "1\n",
      "\n",
      "[-1.50948962 -1.20971398  0.63775194  0.29394825 -1.32605276 -1.11634461]\n",
      "0\n",
      "\n",
      "[-0.90756967 -1.18304645  0.63775194  1.02848709 -1.39735423 -1.09902585]\n",
      "0\n",
      "\n",
      "[ 0.28552165  1.09702741 -0.21489467 -0.93028316  0.25683987  0.8753134 ]\n",
      "1\n",
      "\n",
      "[ 0.28552165 -0.23634912 -0.21489467 -0.4405906   0.25683987 -0.28071419]\n",
      "1\n",
      "\n",
      "[ 0.28552165  1.09702741 -0.21489467 -0.93028316  0.25683987  0.8753134 ]\n",
      "1\n",
      "\n",
      "[-1.86419244  1.09702741  0.63775194 -0.93028316 -1.63977923  0.8753134 ]\n",
      "1\n",
      "\n",
      "[ 0.28552165 -1.02304127 -0.21489467  2.00787222  0.25683987 -0.64440826]\n",
      "0\n",
      "\n",
      "[ 0.28552165 -0.33301892 -0.21489467  0.29394825  0.25683987 -0.21576882]\n",
      "1\n",
      "\n",
      "[ 0.28552165 -0.33301892 -0.21489467 -0.19574432  0.25683987  0.00937513]\n",
      "1\n",
      "\n",
      "[ 0.28552165  1.09702741 -0.21489467 -0.93028316  0.25683987  0.8753134 ]\n",
      "1\n",
      "\n",
      "[ 0.28552165  1.09702741 -0.21489467 -0.93028316  0.25683987  0.8753134 ]\n",
      "1\n",
      "\n",
      "[ 0.28552165 -0.33301892 -0.21489467 -0.19574432  0.25683987  0.00937513]\n",
      "1\n",
      "\n",
      "[ 0.28552165 -0.56969325 -0.21489467  0.53879453  0.25683987 -0.08587808]\n",
      "1\n",
      "\n",
      "[ 0.28552165 -1.20971398 -0.21489467  0.29394825  0.25683987 -1.11634461]\n",
      "0\n",
      "\n",
      "[ 0.28552165 -1.34638508 -0.21489467  1.51817966  0.25683987 -0.80893653]\n",
      "0\n",
      "\n",
      "[ 0.28552165  1.09702741 -0.21489467 -0.93028316  0.25683987  0.8753134 ]\n",
      "1\n",
      "\n",
      "[ 0.28552165 -0.71969811 -0.21489467  1.51817966  0.25683987 -1.10335554]\n",
      "0\n",
      "\n",
      "[ 0.28552165 -1.18304645 -0.21489467  1.76302594  0.25683987 -1.22891659]\n",
      "0\n",
      "\n",
      "[ 0.28552165  1.09702741 -0.21489467 -0.93028316  0.25683987  0.8753134 ]\n",
      "1\n",
      "\n",
      "[ 0.28552165  1.09702741 -0.21489467 -0.93028316  0.25683987  0.8753134 ]\n",
      "1\n",
      "\n",
      "[ 0.28552165  1.09702741 -0.21489467 -0.93028316  0.25683987  0.8753134 ]\n",
      "1\n",
      "\n",
      "[ 0.28552165 -0.33301892 -0.21489467 -0.19574432  0.25683987  0.00937513]\n",
      "1\n",
      "\n",
      "[ 0.28552165  1.09702741 -0.21489467 -0.93028316  0.25683987  0.8753134 ]\n",
      "1\n",
      "\n",
      "[ 0.28552165 -0.33301892 -0.21489467 -0.19574432  0.25683987  0.00937513]\n",
      "1\n",
      "\n",
      "[ 0.28552165 -0.33301892 -0.21489467 -0.19574432  0.25683987  0.00937513]\n",
      "1\n",
      "\n",
      "[ 0.28552165 -0.98637342 -0.21489467  0.53879453  0.25683987 -0.91284912]\n",
      "0\n",
      "\n",
      "[ 0.28552165 -0.38302054 -0.21489467  1.02848709  0.25683987 -0.01227333]\n",
      "1\n",
      "\n",
      "[ 0.28552165  1.09702741 -0.21489467 -0.93028316  0.25683987  0.8753134 ]\n",
      "1\n",
      "\n",
      "[ 0.28552165 -0.33301892 -0.21489467 -0.19574432  0.25683987  0.00937513]\n",
      "1\n",
      "\n",
      "[-1.25152393 -0.90303738  0.63775194  0.53879453 -1.09788805 -0.20710944]\n",
      "1\n",
      "\n",
      "[ 0.28552165 -0.56969325 -0.21489467  1.27333337  0.25683987 -0.29370326]\n",
      "1\n",
      "\n",
      "[ 0.28552165  1.09702741 -0.21489467 -0.93028316  0.25683987  0.8753134 ]\n",
      "1\n",
      "\n",
      "[ 0.28552165  1.09702741 -0.21489467 -0.93028316  0.25683987  0.8753134 ]\n",
      "1\n",
      "\n",
      "[ 0.28552165 -1.12637795 -0.21489467  0.29394825  0.25683987 -1.53199498]\n",
      "0\n",
      "\n",
      "[-0.54211828 -0.1863475   0.63775194  0.29394825 -0.47043512  0.0743205 ]\n",
      "1\n",
      "\n",
      "[ 0.28552165 -0.25968321 -0.21489467  0.53879453  0.25683987 -0.29803295]\n",
      "1\n",
      "\n",
      "[-1.86419244  0.22033234  1.49039855  0.29394825 -1.63977923  0.2734863 ]\n",
      "1\n",
      "\n",
      "[-1.05804966 -1.40305358  0.63775194  2.74241107 -0.92676453 -0.69636456]\n",
      "0\n",
      "\n",
      "[ 0.28552165 -0.33301892 -0.21489467 -0.19574432  0.25683987  0.00937513]\n",
      "1\n",
      "\n",
      "[ 0.28552165 -0.20634815 -0.21489467  1.27333337  0.25683987  0.06133143]\n",
      "1\n",
      "\n",
      "[ 0.28552165 -1.4530552  -0.21489467  1.76302594  0.25683987 -1.06871801]\n",
      "0\n",
      "\n",
      "[ 0.28552165  1.09702741 -0.21489467 -0.93028316  0.25683987  0.8753134 ]\n",
      "1\n",
      "\n",
      "[ 0.28552165 -0.01300855 -0.21489467  1.02848709  0.25683987  0.15225495]\n",
      "1\n",
      "\n",
      "[ 0.28552165  1.09702741 -0.21489467 -0.93028316  0.25683987  0.8753134 ]\n",
      "1\n",
      "\n",
      "[-1.86419244 -1.93307075  0.63775194  2.74241107 -1.63977923 -3.45437793]\n",
      "0\n",
      "\n",
      "[ 0.28552165  1.09702741 -0.21489467 -0.93028316  0.25683987  0.8753134 ]\n",
      "1\n",
      "\n",
      "[ 0.28552165  1.09702741 -0.21489467 -0.93028316  0.25683987  0.8753134 ]\n",
      "1\n",
      "\n",
      "[-1.50948962 -1.07637633  0.63775194  2.49756478 -1.32605276 -1.03408048]\n",
      "0\n",
      "\n",
      "[ 0.28552165 -1.86640192 -0.21489467  1.51817966  0.25683987 -1.41076363]\n",
      "0\n",
      "\n",
      "[ 0.28552165 -0.33301892 -0.21489467 -0.19574432  0.25683987  0.00937513]\n",
      "1\n",
      "\n",
      "[-1.86419244 -2.23641391  0.63775194  0.29394825 -1.63977923 -3.45437793]\n",
      "0\n",
      "\n",
      "[ 0.28552165  1.09702741 -0.21489467 -0.93028316  0.25683987  0.8753134 ]\n",
      "1\n",
      "\n",
      "[ 0.28552165 -0.83303511 -0.21489467  1.27333337  0.25683987 -0.70502394]\n",
      "0\n",
      "\n",
      "[ 0.28552165 -0.33301892 -0.21489467 -0.19574432  0.25683987  0.00937513]\n",
      "1\n",
      "\n",
      "[ 0.28552165 -0.33301892 -0.21489467 -0.19574432  0.25683987  0.00937513]\n",
      "1\n",
      "\n",
      "[ 0.28552165 -0.90303738 -0.21489467  0.53879453  0.25683987 -0.20710944]\n",
      "1\n",
      "\n",
      "[-1.05804966  0.43033914  0.63775194 -0.68543688 -0.92676453  0.29946445]\n",
      "1\n",
      "\n",
      "[ 0.28552165  1.09702741 -0.21489467 -0.93028316  0.25683987  0.8753134 ]\n",
      "1\n",
      "\n",
      "[ 0.28552165 -1.95973828 -0.21489467  2.74241107  0.25683987 -1.73982017]\n",
      "0\n",
      "\n"
     ]
    }
   ],
   "source": [
    "for x in X_test:\n",
    "    print(x)\n",
    "    print(clf.predict(x.reshape(1, -1))[0])\n",
    "    print()"
   ]
  },
  {
   "cell_type": "code",
   "execution_count": null,
   "id": "b689dd50-bf51-4041-8507-996ea074daaf",
   "metadata": {},
   "outputs": [],
   "source": []
  }
 ],
 "metadata": {
  "kernelspec": {
   "display_name": "Python 3 (ipykernel)",
   "language": "python",
   "name": "python3"
  },
  "language_info": {
   "codemirror_mode": {
    "name": "ipython",
    "version": 3
   },
   "file_extension": ".py",
   "mimetype": "text/x-python",
   "name": "python",
   "nbconvert_exporter": "python",
   "pygments_lexer": "ipython3",
   "version": "3.8.5"
  }
 },
 "nbformat": 4,
 "nbformat_minor": 5
}
